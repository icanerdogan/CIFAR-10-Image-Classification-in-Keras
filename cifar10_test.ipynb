{
  "nbformat": 4,
  "nbformat_minor": 0,
  "metadata": {
    "colab": {
      "name": "cifar10_test.ipynb",
      "provenance": [],
      "collapsed_sections": []
    },
    "kernelspec": {
      "name": "python3",
      "display_name": "Python 3"
    },
    "accelerator": "GPU"
  },
  "cells": [
    {
      "cell_type": "markdown",
      "metadata": {
        "id": "LFSEcDXmcHKk",
        "colab_type": "text"
      },
      "source": [
        "**0: airplane  1: automobile  2: bird  3: cat  4: deer  5: dog  6: frog   7: horse  8:ship  9: truck**"
      ]
    },
    {
      "cell_type": "code",
      "metadata": {
        "id": "EAgJdPFCZI67",
        "colab_type": "code",
        "colab": {}
      },
      "source": [
        "from keras.preprocessing.image import load_img\n",
        "from keras.preprocessing.image import img_to_array\n",
        "from keras.models import load_model\n",
        "import matplotlib.pyplot as plt"
      ],
      "execution_count": null,
      "outputs": []
    },
    {
      "cell_type": "code",
      "metadata": {
        "id": "WeVsJspxcMMo",
        "colab_type": "code",
        "colab": {}
      },
      "source": [
        "def load_image(filename):\n",
        "\timg = load_img(filename, target_size=(32, 32))\n",
        "\timg = img_to_array(img)\n",
        "\timg = img.reshape(1, 32, 32, 3)\n",
        "\timg = img.astype('float32')\n",
        "\timg = img / 255.0\n",
        "\tplt.imshow(img[0])\n",
        "\treturn img\n",
        "\n",
        "\n",
        "def run_example():\n",
        "\timg = load_image(\"images/frog.jpg\")\n",
        "\tmodel = load_model('cifar10_final.h5')\n",
        "\tresult = model.predict_classes(img)\n",
        "\treturn result[0]"
      ],
      "execution_count": null,
      "outputs": []
    },
    {
      "cell_type": "code",
      "metadata": {
        "id": "YvU3fbmNcOL-",
        "colab_type": "code",
        "colab": {
          "base_uri": "https://localhost:8080/",
          "height": 387
        },
        "outputId": "a43293c7-0bf5-4052-ee9f-c206c166ebfc"
      },
      "source": [
        "if run_example()==0:\n",
        "  print(\"This a Airplane\")\n",
        "elif run_example()==1:\n",
        "  print(\"This a Automobile\")\n",
        "elif run_example()==2:\n",
        "  print(\"This a Bird\")\n",
        "elif run_example()==3:\n",
        "  print(\"This a Cat\")\n",
        "elif run_example()==4:\n",
        "  print(\"This a Deer\")\n",
        "elif run_example()==5:\n",
        "  print(\"This a Dog\")\n",
        "elif run_example()==6:\n",
        "  print(\"This a Frog\")\n",
        "elif run_example()==7:\n",
        "  print(\"This a Horse\")\n",
        "elif run_example()==8:\n",
        "  print(\"This a Ship\")\n",
        "elif run_example()==9:\n",
        "  print(\"This a Truck\")"
      ],
      "execution_count": null,
      "outputs": [
        {
          "output_type": "stream",
          "text": [
            "WARNING:tensorflow:From <ipython-input-9-bdec2d74516a>:14: Sequential.predict_classes (from tensorflow.python.keras.engine.sequential) is deprecated and will be removed after 2021-01-01.\n",
            "Instructions for updating:\n",
            "Please use instead:* `np.argmax(model.predict(x), axis=-1)`,   if your model does multi-class classification   (e.g. if it uses a `softmax` last-layer activation).* `(model.predict(x) > 0.5).astype(\"int32\")`,   if your model does binary classification   (e.g. if it uses a `sigmoid` last-layer activation).\n",
            "WARNING:tensorflow:5 out of the last 5 calls to <function Model.make_predict_function.<locals>.predict_function at 0x7fb9346b0a60> triggered tf.function retracing. Tracing is expensive and the excessive number of tracings could be due to (1) creating @tf.function repeatedly in a loop, (2) passing tensors with different shapes, (3) passing Python objects instead of tensors. For (1), please define your @tf.function outside of the loop. For (2), @tf.function has experimental_relax_shapes=True option that relaxes argument shapes that can avoid unnecessary retracing. For (3), please refer to https://www.tensorflow.org/tutorials/customization/performance#python_or_tensor_args and https://www.tensorflow.org/api_docs/python/tf/function for  more details.\n",
            "WARNING:tensorflow:6 out of the last 6 calls to <function Model.make_predict_function.<locals>.predict_function at 0x7fb9344d0b70> triggered tf.function retracing. Tracing is expensive and the excessive number of tracings could be due to (1) creating @tf.function repeatedly in a loop, (2) passing tensors with different shapes, (3) passing Python objects instead of tensors. For (1), please define your @tf.function outside of the loop. For (2), @tf.function has experimental_relax_shapes=True option that relaxes argument shapes that can avoid unnecessary retracing. For (3), please refer to https://www.tensorflow.org/tutorials/customization/performance#python_or_tensor_args and https://www.tensorflow.org/api_docs/python/tf/function for  more details.\n",
            "This a Dog\n"
          ],
          "name": "stdout"
        },
        {
          "output_type": "display_data",
          "data": {
            "image/png": "[encoded data removed]",
            "text/plain": [
              "<Figure size 432x288 with 1 Axes>"
            ]
          },
          "metadata": {
            "tags": [],
            "needs_background": "light"
          }
        }
      ]
    },
    {
      "cell_type": "code",
      "metadata": {
        "id": "ifYfkLqSccPF",
        "colab_type": "code",
        "colab": {}
      },
      "source": [
        ""
      ],
      "execution_count": null,
      "outputs": []
    }
  ]
}