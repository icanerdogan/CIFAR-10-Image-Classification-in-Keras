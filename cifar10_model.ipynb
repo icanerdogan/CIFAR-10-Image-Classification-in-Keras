{
  "nbformat": 4,
  "nbformat_minor": 0,
  "metadata": {
    "colab": {
      "name": "cifar10_model.ipynb",
      "provenance": [],
      "collapsed_sections": []
    },
    "kernelspec": {
      "name": "python3",
      "display_name": "Python 3"
    },
    "accelerator": "GPU"
  },
  "cells": [
    {
      "cell_type": "markdown",
      "metadata": {
        "id": "Rd6ZFDb5a6F0",
        "colab_type": "text"
      },
      "source": [
        "### Importing Libraries"
      ]
    },
    {
      "cell_type": "code",
      "metadata": {
        "id": "JGmCou0TZW5B",
        "colab_type": "code",
        "colab": {}
      },
      "source": [
        "from __future__ import print_function\n",
        "import keras \n",
        "import sys\n",
        "from keras.datasets import cifar10\n",
        "from keras.models import Sequential\n",
        "from keras.layers import Dense, Dropout, Activation, Flatten\n",
        "from keras.layers import Conv2D, MaxPooling2D, BatchNormalization\n",
        "from keras.optimizers import SGD, Adam, RMSprop\n",
        "from keras.utils import np_utils, to_categorical\n",
        "import matplotlib.pyplot as plt"
      ],
      "execution_count": null,
      "outputs": []
    },
    {
      "cell_type": "markdown",
      "metadata": {
        "id": "XGc-mHurbF80",
        "colab_type": "text"
      },
      "source": [
        "### Model Data and Features"
      ]
    },
    {
      "cell_type": "code",
      "metadata": {
        "id": "FwVtOiseZb9c",
        "colab_type": "code",
        "colab": {}
      },
      "source": [
        "num_channels=3\n",
        "num_classes=10\n",
        "img_rows=32\n",
        "img_cols=32"
      ],
      "execution_count": null,
      "outputs": []
    },
    {
      "cell_type": "code",
      "metadata": {
        "id": "aatUBbHGZdPv",
        "colab_type": "code",
        "colab": {
          "base_uri": "https://localhost:8080/",
          "height": 50
        },
        "outputId": "e8b7f3c8-e816-4f82-ec24-addc8d63dfaa"
      },
      "source": [
        "(x_train, y_train),(x_test, y_test)=cifar10.load_data()"
      ],
      "execution_count": null,
      "outputs": [
        {
          "output_type": "stream",
          "text": [
            "Downloading data from https://www.cs.toronto.edu/~kriz/cifar-10-python.tar.gz\n",
            "170500096/170498071 [==============================] - 11s 0us/step\n"
          ],
          "name": "stdout"
        }
      ]
    },
    {
      "cell_type": "code",
      "metadata": {
        "id": "uKhJRO50Zekt",
        "colab_type": "code",
        "colab": {}
      },
      "source": [
        "y_train=to_categorical(y_train, num_classes=num_classes)\n",
        "y_test=to_categorical(y_test, num_classes=num_classes)"
      ],
      "execution_count": null,
      "outputs": []
    },
    {
      "cell_type": "code",
      "metadata": {
        "id": "uvGoin7OZi0P",
        "colab_type": "code",
        "colab": {}
      },
      "source": [
        "x_train=x_train.astype('float32')\n",
        "x_test=x_test.astype('float32')\n",
        "\n",
        "x_train /= 255\n",
        "x_test /= 255"
      ],
      "execution_count": null,
      "outputs": []
    },
    {
      "cell_type": "markdown",
      "metadata": {
        "id": "kP6yk2sRbQXm",
        "colab_type": "text"
      },
      "source": [
        "### Model Layers"
      ]
    },
    {
      "cell_type": "code",
      "metadata": {
        "id": "0sPPtueqZkEK",
        "colab_type": "code",
        "colab": {}
      },
      "source": [
        "model = Sequential()\n",
        "#First Layer\n",
        "model.add(Conv2D(32, (3, 3),kernel_initializer='he_uniform', padding='same', input_shape=(img_rows, img_cols, num_channels)))\n",
        "model.add(Activation('relu'))\n",
        "model.add(BatchNormalization())\n",
        "\n",
        "#Second Layer\n",
        "model.add(Conv2D(32, (3, 3), kernel_initializer='he_uniform', padding='same'))\n",
        "model.add(Activation('relu'))\n",
        "model.add(BatchNormalization())\n",
        "model.add(MaxPooling2D((2, 2)))\n",
        "model.add(Dropout(0.2))\n",
        "\n",
        "#Third Layer\n",
        "model.add(Conv2D(64, (3, 3),kernel_initializer='he_uniform', padding='same'))\n",
        "model.add(Activation('relu'))\n",
        "model.add(BatchNormalization())\n",
        "\n",
        "#Fourth Layer\n",
        "model.add(Conv2D(64, (3, 3), kernel_initializer='he_uniform', padding='same'))\n",
        "model.add(Activation('relu'))\n",
        "model.add(BatchNormalization())\n",
        "model.add(MaxPooling2D((2, 2)))\n",
        "model.add(Dropout(0.3))\n",
        "\n",
        "#Fifth Layer\n",
        "model.add(Conv2D(128, (3, 3), kernel_initializer='he_uniform', padding='same'))\n",
        "model.add(Activation('relu'))\n",
        "model.add(BatchNormalization())\n",
        "\n",
        "#Sixth Layer\n",
        "model.add(Conv2D(128, (3, 3), kernel_initializer='he_uniform', padding='same'))\n",
        "model.add(Activation('relu'))\n",
        "model.add(BatchNormalization())\n",
        "model.add(MaxPooling2D((2, 2)))\n",
        "model.add(Dropout(0.4))\n",
        "\n",
        "#Seventh Layer\n",
        "model.add(Flatten())\n",
        "\n",
        "#Eighth Layer\n",
        "model.add(Dense(128, kernel_initializer='he_uniform'))\n",
        "model.add(Activation('relu'))\n",
        "model.add(BatchNormalization())\n",
        "model.add(Dropout(0.5))\n",
        "\n",
        "#Ninth Layer\n",
        "model.add(Dense(10, activation='softmax'))"
      ],
      "execution_count": null,
      "outputs": []
    },
    {
      "cell_type": "code",
      "metadata": {
        "id": "n6kUjQzyZnOd",
        "colab_type": "code",
        "colab": {
          "base_uri": "https://localhost:8080/",
          "height": 1000
        },
        "outputId": "de2e7bfa-1b2c-4204-abd8-483ac49e3472"
      },
      "source": [
        "model.summary()"
      ],
      "execution_count": null,
      "outputs": [
        {
          "output_type": "stream",
          "text": [
            "Model: \"sequential_1\"\n",
            "_________________________________________________________________\n",
            "Layer (type)                 Output Shape              Param #   \n",
            "=================================================================\n",
            "conv2d_6 (Conv2D)            (None, 32, 32, 32)        896       \n",
            "_________________________________________________________________\n",
            "activation_7 (Activation)    (None, 32, 32, 32)        0         \n",
            "_________________________________________________________________\n",
            "batch_normalization_7 (Batch (None, 32, 32, 32)        128       \n",
            "_________________________________________________________________\n",
            "conv2d_7 (Conv2D)            (None, 32, 32, 32)        9248      \n",
            "_________________________________________________________________\n",
            "activation_8 (Activation)    (None, 32, 32, 32)        0         \n",
            "_________________________________________________________________\n",
            "batch_normalization_8 (Batch (None, 32, 32, 32)        128       \n",
            "_________________________________________________________________\n",
            "max_pooling2d_3 (MaxPooling2 (None, 16, 16, 32)        0         \n",
            "_________________________________________________________________\n",
            "dropout_4 (Dropout)          (None, 16, 16, 32)        0         \n",
            "_________________________________________________________________\n",
            "conv2d_8 (Conv2D)            (None, 16, 16, 64)        18496     \n",
            "_________________________________________________________________\n",
            "activation_9 (Activation)    (None, 16, 16, 64)        0         \n",
            "_________________________________________________________________\n",
            "batch_normalization_9 (Batch (None, 16, 16, 64)        256       \n",
            "_________________________________________________________________\n",
            "conv2d_9 (Conv2D)            (None, 16, 16, 64)        36928     \n",
            "_________________________________________________________________\n",
            "activation_10 (Activation)   (None, 16, 16, 64)        0         \n",
            "_________________________________________________________________\n",
            "batch_normalization_10 (Batc (None, 16, 16, 64)        256       \n",
            "_________________________________________________________________\n",
            "max_pooling2d_4 (MaxPooling2 (None, 8, 8, 64)          0         \n",
            "_________________________________________________________________\n",
            "dropout_5 (Dropout)          (None, 8, 8, 64)          0         \n",
            "_________________________________________________________________\n",
            "conv2d_10 (Conv2D)           (None, 8, 8, 128)         73856     \n",
            "_________________________________________________________________\n",
            "activation_11 (Activation)   (None, 8, 8, 128)         0         \n",
            "_________________________________________________________________\n",
            "batch_normalization_11 (Batc (None, 8, 8, 128)         512       \n",
            "_________________________________________________________________\n",
            "conv2d_11 (Conv2D)           (None, 8, 8, 128)         147584    \n",
            "_________________________________________________________________\n",
            "activation_12 (Activation)   (None, 8, 8, 128)         0         \n",
            "_________________________________________________________________\n",
            "batch_normalization_12 (Batc (None, 8, 8, 128)         512       \n",
            "_________________________________________________________________\n",
            "max_pooling2d_5 (MaxPooling2 (None, 4, 4, 128)         0         \n",
            "_________________________________________________________________\n",
            "dropout_6 (Dropout)          (None, 4, 4, 128)         0         \n",
            "_________________________________________________________________\n",
            "flatten_1 (Flatten)          (None, 2048)              0         \n",
            "_________________________________________________________________\n",
            "dense_2 (Dense)              (None, 128)               262272    \n",
            "_________________________________________________________________\n",
            "activation_13 (Activation)   (None, 128)               0         \n",
            "_________________________________________________________________\n",
            "batch_normalization_13 (Batc (None, 128)               512       \n",
            "_________________________________________________________________\n",
            "dropout_7 (Dropout)          (None, 128)               0         \n",
            "_________________________________________________________________\n",
            "dense_3 (Dense)              (None, 10)                1290      \n",
            "=================================================================\n",
            "Total params: 552,874\n",
            "Trainable params: 551,722\n",
            "Non-trainable params: 1,152\n",
            "_________________________________________________________________\n"
          ],
          "name": "stdout"
        }
      ]
    },
    {
      "cell_type": "markdown",
      "metadata": {
        "id": "KRnoyr8zbagT",
        "colab_type": "text"
      },
      "source": [
        "### Model Compile"
      ]
    },
    {
      "cell_type": "code",
      "metadata": {
        "id": "dZ0ILWhxZrcL",
        "colab_type": "code",
        "colab": {}
      },
      "source": [
        "sgd=SGD(learning_rate=0.01, momentum=0.9,nesterov=False)\n",
        "model.compile(loss=\"categorical_crossentropy\", optimizer=sgd,metrics=[\"accuracy\"])"
      ],
      "execution_count": null,
      "outputs": []
    },
    {
      "cell_type": "markdown",
      "metadata": {
        "id": "ZYq1AWOpbeT6",
        "colab_type": "text"
      },
      "source": [
        "### Model Training"
      ]
    },
    {
      "cell_type": "code",
      "metadata": {
        "id": "kPheLjTkZtMa",
        "colab_type": "code",
        "colab": {
          "base_uri": "https://localhost:8080/",
          "height": 709
        },
        "outputId": "b636f00e-f8d1-4a3e-a036-e5d528437b7d"
      },
      "source": [
        "batch_size=128\n",
        "epochs=20\n",
        "validation_split=0.2\n",
        "\n",
        "history=model.fit(x_train, y_train,\n",
        "                  batch_size=batch_size,\n",
        "                  epochs=epochs,\n",
        "                  validation_split=validation_split,\n",
        "                  shuffle=True)"
      ],
      "execution_count": null,
      "outputs": [
        {
          "output_type": "stream",
          "text": [
            "Epoch 1/20\n",
            "313/313 [==============================] - 12s 37ms/step - loss: 1.7435 - accuracy: 0.3860 - val_loss: 1.8223 - val_accuracy: 0.3612\n",
            "Epoch 2/20\n",
            "313/313 [==============================] - 11s 35ms/step - loss: 1.2970 - accuracy: 0.5265 - val_loss: 1.2845 - val_accuracy: 0.5414\n",
            "Epoch 3/20\n",
            "313/313 [==============================] - 11s 34ms/step - loss: 1.1397 - accuracy: 0.5893 - val_loss: 1.3031 - val_accuracy: 0.5579\n",
            "Epoch 4/20\n",
            "313/313 [==============================] - 11s 34ms/step - loss: 1.0262 - accuracy: 0.6346 - val_loss: 0.8703 - val_accuracy: 0.6902\n",
            "Epoch 5/20\n",
            "313/313 [==============================] - 11s 34ms/step - loss: 0.9484 - accuracy: 0.6633 - val_loss: 0.9683 - val_accuracy: 0.6566\n",
            "Epoch 6/20\n",
            "313/313 [==============================] - 11s 35ms/step - loss: 0.8852 - accuracy: 0.6874 - val_loss: 0.8571 - val_accuracy: 0.6927\n",
            "Epoch 7/20\n",
            "313/313 [==============================] - 11s 34ms/step - loss: 0.8370 - accuracy: 0.7042 - val_loss: 1.0308 - val_accuracy: 0.6505\n",
            "Epoch 8/20\n",
            "313/313 [==============================] - 11s 34ms/step - loss: 0.8008 - accuracy: 0.7194 - val_loss: 0.8233 - val_accuracy: 0.7129\n",
            "Epoch 9/20\n",
            "313/313 [==============================] - 11s 34ms/step - loss: 0.7595 - accuracy: 0.7321 - val_loss: 0.7651 - val_accuracy: 0.7307\n",
            "Epoch 10/20\n",
            "313/313 [==============================] - 11s 34ms/step - loss: 0.7288 - accuracy: 0.7430 - val_loss: 0.7661 - val_accuracy: 0.7296\n",
            "Epoch 11/20\n",
            "313/313 [==============================] - 11s 34ms/step - loss: 0.7091 - accuracy: 0.7505 - val_loss: 0.7411 - val_accuracy: 0.7407\n",
            "Epoch 12/20\n",
            "313/313 [==============================] - 11s 34ms/step - loss: 0.6732 - accuracy: 0.7646 - val_loss: 0.6284 - val_accuracy: 0.7796\n",
            "Epoch 13/20\n",
            "313/313 [==============================] - 11s 34ms/step - loss: 0.6534 - accuracy: 0.7703 - val_loss: 0.6144 - val_accuracy: 0.7828\n",
            "Epoch 14/20\n",
            "313/313 [==============================] - 11s 34ms/step - loss: 0.6380 - accuracy: 0.7783 - val_loss: 0.6558 - val_accuracy: 0.7720\n",
            "Epoch 15/20\n",
            "313/313 [==============================] - 11s 34ms/step - loss: 0.6165 - accuracy: 0.7843 - val_loss: 0.6721 - val_accuracy: 0.7683\n",
            "Epoch 16/20\n",
            "313/313 [==============================] - 11s 34ms/step - loss: 0.5935 - accuracy: 0.7951 - val_loss: 0.7894 - val_accuracy: 0.7429\n",
            "Epoch 17/20\n",
            "313/313 [==============================] - 11s 34ms/step - loss: 0.5789 - accuracy: 0.7987 - val_loss: 0.6856 - val_accuracy: 0.7684\n",
            "Epoch 18/20\n",
            "313/313 [==============================] - 11s 34ms/step - loss: 0.5678 - accuracy: 0.8013 - val_loss: 0.5569 - val_accuracy: 0.8071\n",
            "Epoch 19/20\n",
            "313/313 [==============================] - 11s 34ms/step - loss: 0.5477 - accuracy: 0.8098 - val_loss: 0.6539 - val_accuracy: 0.7796\n",
            "Epoch 20/20\n",
            "313/313 [==============================] - 11s 34ms/step - loss: 0.5311 - accuracy: 0.8130 - val_loss: 0.5518 - val_accuracy: 0.8107\n"
          ],
          "name": "stdout"
        }
      ]
    },
    {
      "cell_type": "code",
      "metadata": {
        "id": "TAov4mUEZu92",
        "colab_type": "code",
        "colab": {
          "base_uri": "https://localhost:8080/",
          "height": 87
        },
        "outputId": "dda74a36-3a27-40de-91dc-000ca1800c2b"
      },
      "source": [
        "scores=model.evaluate(x_test, y_test, verbose=1)\n",
        "print(\"Test Loss: \", scores[0])\n",
        "print(\"Test Accuracy: \",scores[1])"
      ],
      "execution_count": null,
      "outputs": [
        {
          "output_type": "stream",
          "text": [
            "313/313 [==============================] - 2s 6ms/step - loss: 0.5583 - accuracy: 0.8086\n",
            "Test Loss:  0.5582671761512756\n",
            "Test Accuracy:  0.8086000084877014\n"
          ],
          "name": "stdout"
        }
      ]
    },
    {
      "cell_type": "markdown",
      "metadata": {
        "id": "Nbrsl5s3bkqH",
        "colab_type": "text"
      },
      "source": [
        "### Model Plots"
      ]
    },
    {
      "cell_type": "code",
      "metadata": {
        "id": "bJq3q0fDan32",
        "colab_type": "code",
        "colab": {
          "base_uri": "https://localhost:8080/",
          "height": 573
        },
        "outputId": "33a1a86b-b7bd-4b01-c2e1-0226bf723308"
      },
      "source": [
        "plt.plot(history.history['val_accuracy'])\n",
        "plt.title('model accuracy')\n",
        "plt.ylabel('accuracy')\n",
        "plt.xlabel('epoch')\n",
        "plt.legend(['train', 'test'], loc='upper left')\n",
        "plt.savefig('model_accuracy.png')\n",
        "plt.show()\n",
        "\n",
        "plt.plot(history.history['loss'])\n",
        "plt.plot(history.history['val_loss'])\n",
        "plt.title('model loss')\n",
        "plt.ylabel('loss')\n",
        "plt.xlabel('epoch')\n",
        "plt.legend(['train', 'test'], loc='upper left')\n",
        "plt.savefig('model_loss.png')\n",
        "plt.show()"
      ],
      "execution_count": null,
      "outputs": [
        {
          "output_type": "display_data",
          "data": {
            "image/png": "[encoded data removed]",
            "text/plain": [
              "<Figure size 432x288 with 1 Axes>"
            ]
          },
          "metadata": {
            "tags": [],
            "needs_background": "light"
          }
        },
        {
          "output_type": "display_data",
          "data": {
            "image/png": "[encoded data removed]",
            "text/plain": [
              "<Figure size 432x288 with 1 Axes>"
            ]
          },
          "metadata": {
            "tags": [],
            "needs_background": "light"
          }
        }
      ]
    },
    {
      "cell_type": "markdown",
      "metadata": {
        "id": "AjnqUazkbxJn",
        "colab_type": "text"
      },
      "source": [
        "### Save Model"
      ]
    },
    {
      "cell_type": "code",
      "metadata": {
        "id": "gcCbPzMhaq98",
        "colab_type": "code",
        "colab": {}
      },
      "source": [
        "model.save(\"cifar10_final.h5\")"
      ],
      "execution_count": null,
      "outputs": []
    }
  ]
}